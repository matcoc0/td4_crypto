{
 "cells": [
  {
   "cell_type": "code",
   "execution_count": 1,
   "metadata": {},
   "outputs": [
    {
     "name": "stdout",
     "output_type": "stream",
     "text": [
      "Original: Trying to encrypt this message using Paillier\n",
      "Déchiffré: Trying to encrypt this message using Paillier\n",
      "Addition homomorphe: 579 == 579\n",
      "Addition message clair: 579 == 579\n",
      "Multiplication scalaire: 56088 == 56088\n"
     ]
    }
   ],
   "source": [
    "# Paillier Cryptosystem – Implémentation et Propriétés Homomorphes\n",
    "\n",
    "## 🔐 Partie 1 : Implémentation du cryptosystème de Paillier\n",
    "\n",
    "# On commence par importer notre module (paillier.py doit être dans le même dossier)\n",
    "from paillier import Paillier\n",
    "from utils import string_to_int, int_to_string\n",
    "import gmpy2\n",
    "\n",
    "# Création d'une instance avec des clés de 512 bits (suffisant pour nos tests)\n",
    "p = Paillier(512)\n",
    "\n",
    "# Test basique de chiffrement / déchiffrement\n",
    "message = \"Trying to encrypt this message using Paillier\"\n",
    "ciphertext = p.encrypt(string_to_int(message))\n",
    "decrypted = int_to_string(p.decrypt(ciphertext))\n",
    "\n",
    "print(\"Original:\", message)\n",
    "print(\"Déchiffré:\", decrypted)\n",
    "assert decrypted == message\n",
    "\n",
    "# ✅ Si l'assert passe, notre implémentation fonctionne\n",
    "\n",
    "## ✍️ Question 1.2.2 : Que vaut c1 * c2 mod n² ?\n",
    "# Cela correspond à E(m1 + m2)\n",
    "m1 = 123\n",
    "m2 = 456\n",
    "c1 = p.encrypt(m1)\n",
    "c2 = p.encrypt(m2)\n",
    "\n",
    "add_cipher = (c1 * c2) % p.n2\n",
    "result = p.decrypt(add_cipher)\n",
    "print(\"Addition homomorphe:\", result, \"==\", m1 + m2)\n",
    "assert result == (m1 + m2) % p.n\n",
    "\n",
    "## ✍️ Question 1.2.3 : Que vaut c1 * g^m2 mod n² ?\n",
    "# Cela correspond aussi à E(m1 + m2)\n",
    "add_plain = (c1 * gmpy2.powmod(p.g, m2, p.n2)) % p.n2\n",
    "result = p.decrypt(add_plain)\n",
    "print(\"Addition message clair:\", result, \"==\", m1 + m2)\n",
    "assert result == (m1 + m2) % p.n\n",
    "\n",
    "## ✍️ Question 1.2.4 : Que vaut c1^m2 mod n² ?\n",
    "# Cela correspond à E(m1 * m2)\n",
    "mul_plain = gmpy2.powmod(c1, m2, p.n2)\n",
    "result = p.decrypt(mul_plain)\n",
    "print(\"Multiplication scalaire:\", result, \"==\", m1 * m2)\n",
    "assert result == (m1 * m2) % p.n\n"
   ]
  }
 ],
 "metadata": {
  "kernelspec": {
   "display_name": "Python 3",
   "language": "python",
   "name": "python3"
  },
  "language_info": {
   "codemirror_mode": {
    "name": "ipython",
    "version": 3
   },
   "file_extension": ".py",
   "mimetype": "text/x-python",
   "name": "python",
   "nbconvert_exporter": "python",
   "pygments_lexer": "ipython3",
   "version": "3.11.9"
  }
 },
 "nbformat": 4,
 "nbformat_minor": 2
}
